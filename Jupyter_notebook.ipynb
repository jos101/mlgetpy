{
 "cells": [
  {
   "cell_type": "code",
   "execution_count": null,
   "id": "infectious-kuwait",
   "metadata": {},
   "outputs": [],
   "source": [
    "from mlrgetpy.Repository import Repository"
   ]
  },
  {
   "cell_type": "code",
   "execution_count": null,
   "id": "together-effectiveness",
   "metadata": {},
   "outputs": [],
   "source": [
    "repo = Repository()"
   ]
  },
  {
   "cell_type": "code",
   "execution_count": null,
   "id": "tough-attempt",
   "metadata": {},
   "outputs": [],
   "source": [
    "repo.load()"
   ]
  },
  {
   "cell_type": "code",
   "execution_count": null,
   "id": "mental-seventh",
   "metadata": {},
   "outputs": [],
   "source": [
    "df = repo.getData()\n",
    "a:list = [1,2]\n",
    "a"
   ]
  },
  {
   "cell_type": "code",
   "execution_count": null,
   "id": "critical-opposition",
   "metadata": {},
   "outputs": [],
   "source": [
    "df\n",
    "df.drop([0,1])\n",
    "repo.removeByIndex([0,1])"
   ]
  },
  {
   "cell_type": "code",
   "execution_count": null,
   "id": "outer-lemon",
   "metadata": {},
   "outputs": [],
   "source": [
    "repo.getData()"
   ]
  },
  {
   "cell_type": "code",
   "execution_count": null,
   "id": "bright-beast",
   "metadata": {},
   "outputs": [],
   "source": []
  },
  {
   "cell_type": "code",
   "execution_count": null,
   "id": "dying-induction",
   "metadata": {},
   "outputs": [],
   "source": []
  }
 ],
 "metadata": {
  "kernelspec": {
   "display_name": "Python 3",
   "language": "python",
   "name": "python3"
  },
  "language_info": {
   "codemirror_mode": {
    "name": "ipython",
    "version": 3
   },
   "file_extension": ".py",
   "mimetype": "text/x-python",
   "name": "python",
   "nbconvert_exporter": "python",
   "pygments_lexer": "ipython3",
   "version": "3.9.1"
  }
 },
 "nbformat": 4,
 "nbformat_minor": 5
}
